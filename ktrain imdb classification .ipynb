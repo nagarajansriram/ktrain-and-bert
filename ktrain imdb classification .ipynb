{
 "cells": [
  {
   "cell_type": "code",
   "execution_count": 66,
   "metadata": {},
   "outputs": [],
   "source": [
    "\n",
    "%reload_ext autoreload\n",
    "%autoreload 2\n",
    "%matplotlib inline\n",
    "import os\n",
    "os.environ[\"CUDA_DEVICE_ORDER\"]=\"PCI_BUS_ID\";\n",
    "os.environ[\"CUDA_VISIBLE_DEVICES\"]=\"0\";"
   ]
  },
  {
   "cell_type": "code",
   "execution_count": 67,
   "metadata": {},
   "outputs": [],
   "source": [
    "import ktrain\n",
    "from ktrain import text"
   ]
  },
  {
   "cell_type": "code",
   "execution_count": null,
   "metadata": {},
   "outputs": [],
   "source": [
    "######download data set form: https://ai.stanford.edu/~amaas/data/sentiment/\n",
    "## here folder renamed to bertimdb under the dcouments"
   ]
  },
  {
   "cell_type": "code",
   "execution_count": 69,
   "metadata": {},
   "outputs": [
    {
     "name": "stdout",
     "output_type": "stream",
     "text": [
      "detected encoding: utf-8\n",
      "language: en\n",
      "Word Counts: 88582\n",
      "Nrows: 25000\n",
      "25000 train sequences\n",
      "Average train sequence length: 237\n",
      "Adding 3-gram features\n",
      "max_features changed to 5151281 with addition of ngrams\n",
      "Average train sequence length with ngrams: 709\n",
      "x_train shape: (25000,2000)\n",
      "y_train shape: (25000,2)\n",
      "25000 test sequences\n",
      "Average test sequence length: 229\n",
      "Average test sequence length with ngrams: 523\n",
      "x_test shape: (25000,2000)\n",
      "y_test shape: (25000,2)\n"
     ]
    }
   ],
   "source": [
    "DATADIR = 'documents/bertimdb'\n",
    "(x_train, y_train), (x_test, y_test), preproc = text.texts_from_folder(DATADIR, \n",
    "                                                                         max_features=80000, maxlen=2000, \n",
    "                                                                         ngram_range=3, \n",
    "                                                                         preprocess_mode='standard',\n",
    "                                                                         classes=['pos', 'neg'])"
   ]
  },
  {
   "cell_type": "code",
   "execution_count": 70,
   "metadata": {},
   "outputs": [
    {
     "name": "stdout",
     "output_type": "stream",
     "text": [
      "fasttext: a fastText-like model (http://arxiv.org/pdf/1607.01759.pdf)\n",
      "logreg: logistic regression using a trainable Embedding layer\n",
      "nbsvm: NBSVM model (http://www.aclweb.org/anthology/P12-2018)\n",
      "bigru: Bidirectional GRU with pretrained word vectors (https://arxiv.org/abs/1712.09405)\n",
      "standard_gru: simple 2-layer GRU with randomly initialized embeddings\n",
      "bert: Bidirectional Encoder Representations from Transformers (https://arxiv.org/abs/1810.04805)\n"
     ]
    }
   ],
   "source": [
    "text.print_text_classifiers()\n"
   ]
  },
  {
   "cell_type": "code",
   "execution_count": 71,
   "metadata": {},
   "outputs": [
    {
     "name": "stdout",
     "output_type": "stream",
     "text": [
      "Is Multi-Label? False\n",
      "compiling word ID features...\n",
      "maxlen is 2000\n",
      "building document-term matrix... this may take a few moments...\n",
      "rows: 1-10000\n",
      "rows: 10001-20000\n",
      "rows: 20001-25000\n",
      "computing log-count ratios...\n",
      "done.\n"
     ]
    }
   ],
   "source": [
    "model = text.text_classifier('nbsvm', (x_train, y_train), preproc=preproc)\n"
   ]
  },
  {
   "cell_type": "code",
   "execution_count": 72,
   "metadata": {},
   "outputs": [],
   "source": [
    "learner = ktrain.get_learner(model, train_data=(x_train, y_train), val_data=(x_test, y_test))\n"
   ]
  },
  {
   "cell_type": "code",
   "execution_count": 73,
   "metadata": {},
   "outputs": [
    {
     "name": "stdout",
     "output_type": "stream",
     "text": [
      "simulating training for different learning rates... this may take a few moments...\n",
      "Train on 25000 samples\n",
      "Epoch 1/1024\n",
      "25000/25000 [==============================] - 103s 4ms/sample - loss: 0.6629 - acc: 0.6897\n",
      "Epoch 2/1024\n",
      "19776/25000 [======================>.......] - ETA: 21s - loss: 0.2605 - acc: 0.9495\n",
      "\n",
      "done.\n",
      "Please invoke the Learner.lr_plot() method to visually inspect the loss plot to help identify the maximal learning rate associated with falling loss.\n"
     ]
    }
   ],
   "source": [
    "learner.lr_find()\n"
   ]
  },
  {
   "cell_type": "code",
   "execution_count": 74,
   "metadata": {},
   "outputs": [
    {
     "data": {
      "image/png": "[encoded data removed]",
      "text/plain": [
       "<Figure size 432x288 with 1 Axes>"
      ]
     },
     "metadata": {
      "needs_background": "light"
     },
     "output_type": "display_data"
    }
   ],
   "source": [
    "learner.lr_plot()\n"
   ]
  },
  {
   "cell_type": "code",
   "execution_count": 75,
   "metadata": {},
   "outputs": [
    {
     "name": "stdout",
     "output_type": "stream",
     "text": [
      "Train on 25000 samples, validate on 25000 samples\n",
      "Epoch 1/7\n",
      "25000/25000 [==============================] - 110s 4ms/sample - loss: 0.2201 - acc: 0.9443 - val_loss: 0.2558 - val_acc: 0.9173\n",
      "Epoch 2/7\n",
      "25000/25000 [==============================] - 105s 4ms/sample - loss: 0.0487 - acc: 0.9929 - val_loss: 0.2298 - val_acc: 0.9210\n",
      "Epoch 3/7\n",
      "25000/25000 [==============================] - 105s 4ms/sample - loss: 0.0102 - acc: 0.9999 - val_loss: 0.2278 - val_acc: 0.9213\n",
      "Epoch 4/7\n",
      "25000/25000 [==============================] - 105s 4ms/sample - loss: 0.0085 - acc: 0.9999 - val_loss: 0.2205 - val_acc: 0.9217\n",
      "Epoch 5/7\n",
      "25000/25000 [==============================] - 105s 4ms/sample - loss: 0.0040 - acc: 1.0000 - val_loss: 0.2183 - val_acc: 0.9213\n",
      "Epoch 6/7\n",
      "25000/25000 [==============================] - 106s 4ms/sample - loss: 0.0028 - acc: 1.0000 - val_loss: 0.2176 - val_acc: 0.9212\n",
      "Epoch 7/7\n",
      "25000/25000 [==============================] - 103s 4ms/sample - loss: 0.0024 - acc: 1.0000 - val_loss: 0.2174 - val_acc: 0.9212\n"
     ]
    },
    {
     "data": {
      "text/plain": [
       "<tensorflow.python.keras.callbacks.History at 0x1529f9dfeb8>"
      ]
     },
     "execution_count": 75,
     "metadata": {},
     "output_type": "execute_result"
    }
   ],
   "source": [
    "learner.fit(0.001, 3, cycle_len=1, cycle_mult=2)\n"
   ]
  },
  {
   "cell_type": "code",
   "execution_count": 76,
   "metadata": {},
   "outputs": [],
   "source": [
    "predictor = ktrain.get_predictor(learner.model, preproc)\n"
   ]
  },
  {
   "cell_type": "code",
   "execution_count": 115,
   "metadata": {},
   "outputs": [],
   "source": [
    "data = [ 'This movie was boring.',\n",
    "         'The film uses dupe artists.',\n",
    "        'The actress uses overmakeup',\n",
    "        'acting was not over',\n",
    "        'We can give 10 out of 10 for this movie',\n",
    "       'We can give 1 out of 10 for this movie']"
   ]
  },
  {
   "cell_type": "code",
   "execution_count": 116,
   "metadata": {},
   "outputs": [
    {
     "data": {
      "text/plain": [
       "['neg', 'neg', 'neg', 'pos', 'pos', 'neg']"
      ]
     },
     "execution_count": 116,
     "metadata": {},
     "output_type": "execute_result"
    }
   ],
   "source": [
    "predictor.predict(data)\n"
   ]
  },
  {
   "cell_type": "code",
   "execution_count": 117,
   "metadata": {},
   "outputs": [
    {
     "data": {
      "text/plain": [
       "array([[0.6399735 , 0.36002645],\n",
       "       [0.50863534, 0.49136463],\n",
       "       [0.50169444, 0.4983056 ],\n",
       "       [0.4883059 , 0.5116941 ],\n",
       "       [0.3266692 , 0.6733308 ],\n",
       "       [0.8071193 , 0.19288069]], dtype=float32)"
      ]
     },
     "execution_count": 117,
     "metadata": {},
     "output_type": "execute_result"
    }
   ],
   "source": [
    "predictor.predict(data, return_proba=True)\n"
   ]
  },
  {
   "cell_type": "code",
   "execution_count": null,
   "metadata": {},
   "outputs": [],
   "source": []
  },
  {
   "cell_type": "code",
   "execution_count": null,
   "metadata": {},
   "outputs": [],
   "source": []
  }
 ],
 "metadata": {
  "kernelspec": {
   "display_name": "Python 3",
   "language": "python",
   "name": "python3"
  },
  "language_info": {
   "codemirror_mode": {
    "name": "ipython",
    "version": 3
   },
   "file_extension": ".py",
   "mimetype": "text/x-python",
   "name": "python",
   "nbconvert_exporter": "python",
   "pygments_lexer": "ipython3",
   "version": "3.7.3"
  }
 },
 "nbformat": 4,
 "nbformat_minor": 2
}
